{
 "cells": [
  {
   "cell_type": "markdown",
   "metadata": {},
   "source": [
    "# Introduction"
   ]
  },
  {
   "cell_type": "markdown",
   "metadata": {},
   "source": [
    "**The purpose of this anlaysis is trying to find out the products that are purchased most in the HappyDB dataset.**  \n",
    "These products are more likely to make people feel happy."
   ]
  },
  {
   "cell_type": "markdown",
   "metadata": {},
   "source": [
    "**I'll use KOKO, a rule-based entity extraction system, to perform the analysis.**  \n",
    "\n",
    "KOKO allows users to specify conditions of desirable entities with a declarative language (see [KOKO syntax](#koko_syntax)).  \n",
    "Those entities that obtain scores higher than a threshold are extracted.\n",
    "\n",
    "KOKO is especially suitable for entity extraction with limited evidence in the corpus (e.g. extraction of cafe names within only one or a few blogs). "
   ]
  },
  {
   "cell_type": "markdown",
   "metadata": {},
   "source": [
    "**The whole analysis described in this notebook comprises the following steps:**  \n",
    "\n",
    "- Data preprocessing: load HappyDB dataset and convert it to a text file as input to KOKO.\n",
    "- KOKO introduction: briefly introduce the syntax and semantics of KOKO, with an example query.\n",
    "- Entity extraction: a KOKO query is written and evaluated, extracting product names in the dataset.\n",
    "\n",
    "Let's get started!"
   ]
  },
  {
   "cell_type": "markdown",
   "metadata": {},
   "source": [
    "We first import necessary packages:"
   ]
  },
  {
   "cell_type": "code",
   "execution_count": 61,
   "metadata": {},
   "outputs": [],
   "source": [
    "%matplotlib inline\n",
    "import pandas as pd\n",
    "import seaborn as sns\n",
    "from wordcloud import WordCloud, ImageColorGenerator"
   ]
  },
  {
   "cell_type": "markdown",
   "metadata": {},
   "source": [
    "# 1. Data preprocessing"
   ]
  },
  {
   "cell_type": "markdown",
   "metadata": {},
   "source": [
    "First, let's load the data and take a look at the happy moments.  "
   ]
  },
  {
   "cell_type": "markdown",
   "metadata": {},
   "source": [
    "## Load HappyDB"
   ]
  },
  {
   "cell_type": "code",
   "execution_count": 62,
   "metadata": {},
   "outputs": [
    {
     "data": {
      "text/html": [
       "<div>\n",
       "<style>\n",
       "    .dataframe thead tr:only-child th {\n",
       "        text-align: right;\n",
       "    }\n",
       "\n",
       "    .dataframe thead th {\n",
       "        text-align: left;\n",
       "    }\n",
       "\n",
       "    .dataframe tbody tr th {\n",
       "        vertical-align: top;\n",
       "    }\n",
       "</style>\n",
       "<table border=\"1\" class=\"dataframe\">\n",
       "  <thead>\n",
       "    <tr style=\"text-align: right;\">\n",
       "      <th></th>\n",
       "      <th>hmid</th>\n",
       "      <th>hm</th>\n",
       "      <th>reflection</th>\n",
       "      <th>wid</th>\n",
       "    </tr>\n",
       "  </thead>\n",
       "  <tbody>\n",
       "    <tr>\n",
       "      <th>0</th>\n",
       "      <td>27673</td>\n",
       "      <td>I went on a successful date with someone I fel...</td>\n",
       "      <td>24h</td>\n",
       "      <td>2053</td>\n",
       "    </tr>\n",
       "    <tr>\n",
       "      <th>1</th>\n",
       "      <td>27674</td>\n",
       "      <td>I was happy when my son got 90% marks in his e...</td>\n",
       "      <td>24h</td>\n",
       "      <td>2</td>\n",
       "    </tr>\n",
       "    <tr>\n",
       "      <th>2</th>\n",
       "      <td>27675</td>\n",
       "      <td>I went to the gym this morning and did yoga.</td>\n",
       "      <td>24h</td>\n",
       "      <td>1936</td>\n",
       "    </tr>\n",
       "    <tr>\n",
       "      <th>3</th>\n",
       "      <td>27676</td>\n",
       "      <td>We had a serious talk with some friends of our...</td>\n",
       "      <td>24h</td>\n",
       "      <td>206</td>\n",
       "    </tr>\n",
       "    <tr>\n",
       "      <th>4</th>\n",
       "      <td>27677</td>\n",
       "      <td>I went with grandchildren to butterfly display...</td>\n",
       "      <td>24h</td>\n",
       "      <td>6227</td>\n",
       "    </tr>\n",
       "  </tbody>\n",
       "</table>\n",
       "</div>"
      ],
      "text/plain": [
       "    hmid                                                 hm reflection   wid\n",
       "0  27673  I went on a successful date with someone I fel...        24h  2053\n",
       "1  27674  I was happy when my son got 90% marks in his e...        24h     2\n",
       "2  27675       I went to the gym this morning and did yoga.        24h  1936\n",
       "3  27676  We had a serious talk with some friends of our...        24h   206\n",
       "4  27677  I went with grandchildren to butterfly display...        24h  6227"
      ]
     },
     "execution_count": 62,
     "metadata": {},
     "output_type": "execute_result"
    }
   ],
   "source": [
    "data = pd.read_csv('./cleaned_hm.csv', index_col=0)\n",
    "data.head()"
   ]
  },
  {
   "cell_type": "markdown",
   "metadata": {},
   "source": [
    "Within the dataset, the most interesting part -- which is also the input to our analysis -- is the coloum of 'cleaned_hm'.  \n",
    "\n",
    "'cleaned_hm' stands for \"cleaned happy moments\". Let's take a look."
   ]
  },
  {
   "cell_type": "markdown",
   "metadata": {},
   "source": [
    "Let's do a word count first"
   ]
  },
  {
   "cell_type": "code",
   "execution_count": 63,
   "metadata": {},
   "outputs": [
    {
     "data": {
      "text/plain": [
       "count    100922.00000\n",
       "mean         17.94577\n",
       "std          20.03303\n",
       "min           1.00000\n",
       "25%           9.00000\n",
       "50%          14.00000\n",
       "75%          21.00000\n",
       "max        1179.00000\n",
       "Name: hm, dtype: float64"
      ]
     },
     "execution_count": 63,
     "metadata": {},
     "output_type": "execute_result"
    }
   ],
   "source": [
    "df_hm = data[data['hm'].notnull()]\n",
    "len_count = df_hm['hm'].apply(lambda x: len(x.split()))\n",
    "len_count.describe()"
   ]
  },
  {
   "cell_type": "markdown",
   "metadata": {},
   "source": [
    "Let's show more detailed results."
   ]
  },
  {
   "cell_type": "code",
   "execution_count": 64,
   "metadata": {},
   "outputs": [
    {
     "data": {
      "text/plain": [
       "<matplotlib.axes._subplots.AxesSubplot at 0x115b86208>"
      ]
     },
     "execution_count": 64,
     "metadata": {},
     "output_type": "execute_result"
    },
    {
     "data": {
      "image/png": "[encoded data removed]",
      "text/plain": [
       "<matplotlib.figure.Figure at 0x115b87828>"
      ]
     },
     "metadata": {},
     "output_type": "display_data"
    }
   ],
   "source": [
    "length_order = [\"0-4\", \"5-9\", \"10-14\", \"15-19\", \"20-24\", \"25-29\", \"30-34\", \"35-39\", \\\n",
    "                \"40-44\", \"45-49\", \">=50\"]\n",
    "length_category = len_count.apply(lambda x: length_order[min(10, int(x/5))])\n",
    "length_counts = pd.DataFrame(length_category.value_counts()).reset_index()\n",
    "length_counts.columns = ['word numbers', '# of moments']\n",
    "\n",
    "sns.barplot(x='word numbers', y='# of moments', data=length_counts, order=length_order)"
   ]
  },
  {
   "cell_type": "markdown",
   "metadata": {},
   "source": [
    "## Word frequency"
   ]
  },
  {
   "cell_type": "code",
   "execution_count": 67,
   "metadata": {},
   "outputs": [
    {
     "ename": "KeyboardInterrupt",
     "evalue": "",
     "output_type": "error",
     "traceback": [
      "\u001b[0;31m---------------------------------------------------------------------------\u001b[0m",
      "\u001b[0;31mKeyboardInterrupt\u001b[0m                         Traceback (most recent call last)",
      "\u001b[0;32m<ipython-input-67-3226b4d2d0fc>\u001b[0m in \u001b[0;36m<module>\u001b[0;34m()\u001b[0m\n\u001b[1;32m      6\u001b[0m     \u001b[0mtext\u001b[0m \u001b[0;34m=\u001b[0m \u001b[0mtext\u001b[0m\u001b[0;34m.\u001b[0m\u001b[0mreplace\u001b[0m\u001b[0;34m(\u001b[0m\u001b[0;34m' '\u001b[0m \u001b[0;34m+\u001b[0m \u001b[0mw\u001b[0m\u001b[0;34m,\u001b[0m \u001b[0;34m''\u001b[0m\u001b[0;34m)\u001b[0m\u001b[0;34m\u001b[0m\u001b[0m\n\u001b[1;32m      7\u001b[0m     \u001b[0mtext\u001b[0m \u001b[0;34m=\u001b[0m \u001b[0mtext\u001b[0m\u001b[0;34m.\u001b[0m\u001b[0mreplace\u001b[0m\u001b[0;34m(\u001b[0m\u001b[0mw\u001b[0m \u001b[0;34m+\u001b[0m \u001b[0;34m' '\u001b[0m\u001b[0;34m,\u001b[0m \u001b[0;34m''\u001b[0m\u001b[0;34m)\u001b[0m\u001b[0;34m\u001b[0m\u001b[0m\n\u001b[0;32m----> 8\u001b[0;31m     \u001b[0mwordcloud\u001b[0m \u001b[0;34m=\u001b[0m \u001b[0mWordCloud\u001b[0m\u001b[0;34m(\u001b[0m\u001b[0mbackground_color\u001b[0m\u001b[0;34m=\u001b[0m\u001b[0;34m\"white\"\u001b[0m\u001b[0;34m,\u001b[0m \u001b[0mfont_path\u001b[0m\u001b[0;34m=\u001b[0m\u001b[0;34m'../../../Library/Fonts/Arial.ttf'\u001b[0m\u001b[0;34m,\u001b[0m \u001b[0mheight\u001b[0m\u001b[0;34m=\u001b[0m\u001b[0;36m2700\u001b[0m\u001b[0;34m,\u001b[0m \u001b[0mwidth\u001b[0m\u001b[0;34m=\u001b[0m\u001b[0;36m3600\u001b[0m\u001b[0;34m)\u001b[0m\u001b[0;34m.\u001b[0m\u001b[0mgenerate\u001b[0m\u001b[0;34m(\u001b[0m\u001b[0mtext\u001b[0m\u001b[0;34m)\u001b[0m \u001b[0;31m#, font_path='../../../Library/Fonts/FiraMono-Regular.ttf' ,\u001b[0m\u001b[0;34m\u001b[0m\u001b[0m\n\u001b[0m\u001b[1;32m      9\u001b[0m \u001b[0;34m\u001b[0m\u001b[0m\n\u001b[1;32m     10\u001b[0m \u001b[0mwordcloud\u001b[0m\u001b[0;34m\u001b[0m\u001b[0m\n",
      "\u001b[0;32m~/.virtualenv/python3/lib/python3.6/site-packages/wordcloud/wordcloud.py\u001b[0m in \u001b[0;36mgenerate\u001b[0;34m(self, text)\u001b[0m\n\u001b[1;32m    554\u001b[0m         \u001b[0mself\u001b[0m\u001b[0;34m\u001b[0m\u001b[0m\n\u001b[1;32m    555\u001b[0m         \"\"\"\n\u001b[0;32m--> 556\u001b[0;31m         \u001b[0;32mreturn\u001b[0m \u001b[0mself\u001b[0m\u001b[0;34m.\u001b[0m\u001b[0mgenerate_from_text\u001b[0m\u001b[0;34m(\u001b[0m\u001b[0mtext\u001b[0m\u001b[0;34m)\u001b[0m\u001b[0;34m\u001b[0m\u001b[0m\n\u001b[0m\u001b[1;32m    557\u001b[0m \u001b[0;34m\u001b[0m\u001b[0m\n\u001b[1;32m    558\u001b[0m     \u001b[0;32mdef\u001b[0m \u001b[0m_check_generated\u001b[0m\u001b[0;34m(\u001b[0m\u001b[0mself\u001b[0m\u001b[0;34m)\u001b[0m\u001b[0;34m:\u001b[0m\u001b[0;34m\u001b[0m\u001b[0m\n",
      "\u001b[0;32m~/.virtualenv/python3/lib/python3.6/site-packages/wordcloud/wordcloud.py\u001b[0m in \u001b[0;36mgenerate_from_text\u001b[0;34m(self, text)\u001b[0m\n\u001b[1;32m    540\u001b[0m         \"\"\"\n\u001b[1;32m    541\u001b[0m         \u001b[0mwords\u001b[0m \u001b[0;34m=\u001b[0m \u001b[0mself\u001b[0m\u001b[0;34m.\u001b[0m\u001b[0mprocess_text\u001b[0m\u001b[0;34m(\u001b[0m\u001b[0mtext\u001b[0m\u001b[0;34m)\u001b[0m\u001b[0;34m\u001b[0m\u001b[0m\n\u001b[0;32m--> 542\u001b[0;31m         \u001b[0mself\u001b[0m\u001b[0;34m.\u001b[0m\u001b[0mgenerate_from_frequencies\u001b[0m\u001b[0;34m(\u001b[0m\u001b[0mwords\u001b[0m\u001b[0;34m)\u001b[0m\u001b[0;34m\u001b[0m\u001b[0m\n\u001b[0m\u001b[1;32m    543\u001b[0m         \u001b[0;32mreturn\u001b[0m \u001b[0mself\u001b[0m\u001b[0;34m\u001b[0m\u001b[0m\n\u001b[1;32m    544\u001b[0m \u001b[0;34m\u001b[0m\u001b[0m\n",
      "\u001b[0;32m~/.virtualenv/python3/lib/python3.6/site-packages/wordcloud/wordcloud.py\u001b[0m in \u001b[0;36mgenerate_from_frequencies\u001b[0;34m(self, frequencies, max_font_size)\u001b[0m\n\u001b[1;32m    405\u001b[0m             \u001b[0;32melse\u001b[0m\u001b[0;34m:\u001b[0m\u001b[0;34m\u001b[0m\u001b[0m\n\u001b[1;32m    406\u001b[0m                 self.generate_from_frequencies(dict(frequencies[:2]),\n\u001b[0;32m--> 407\u001b[0;31m                                                max_font_size=self.height)\n\u001b[0m\u001b[1;32m    408\u001b[0m                 \u001b[0;31m# find font sizes\u001b[0m\u001b[0;34m\u001b[0m\u001b[0;34m\u001b[0m\u001b[0m\n\u001b[1;32m    409\u001b[0m                 \u001b[0msizes\u001b[0m \u001b[0;34m=\u001b[0m \u001b[0;34m[\u001b[0m\u001b[0mx\u001b[0m\u001b[0;34m[\u001b[0m\u001b[0;36m1\u001b[0m\u001b[0;34m]\u001b[0m \u001b[0;32mfor\u001b[0m \u001b[0mx\u001b[0m \u001b[0;32min\u001b[0m \u001b[0mself\u001b[0m\u001b[0;34m.\u001b[0m\u001b[0mlayout_\u001b[0m\u001b[0;34m]\u001b[0m\u001b[0;34m\u001b[0m\u001b[0m\n",
      "\u001b[0;32m~/.virtualenv/python3/lib/python3.6/site-packages/wordcloud/wordcloud.py\u001b[0m in \u001b[0;36mgenerate_from_frequencies\u001b[0;34m(self, frequencies, max_font_size)\u001b[0m\n\u001b[1;32m    435\u001b[0m                     font, orientation=orientation)\n\u001b[1;32m    436\u001b[0m                 \u001b[0;31m# get size of resulting text\u001b[0m\u001b[0;34m\u001b[0m\u001b[0;34m\u001b[0m\u001b[0m\n\u001b[0;32m--> 437\u001b[0;31m                 \u001b[0mbox_size\u001b[0m \u001b[0;34m=\u001b[0m \u001b[0mdraw\u001b[0m\u001b[0;34m.\u001b[0m\u001b[0mtextsize\u001b[0m\u001b[0;34m(\u001b[0m\u001b[0mword\u001b[0m\u001b[0;34m,\u001b[0m \u001b[0mfont\u001b[0m\u001b[0;34m=\u001b[0m\u001b[0mtransposed_font\u001b[0m\u001b[0;34m)\u001b[0m\u001b[0;34m\u001b[0m\u001b[0m\n\u001b[0m\u001b[1;32m    438\u001b[0m                 \u001b[0;31m# find possible places using integral image:\u001b[0m\u001b[0;34m\u001b[0m\u001b[0;34m\u001b[0m\u001b[0m\n\u001b[1;32m    439\u001b[0m                 result = occupancy.sample_position(box_size[1] + self.margin,\n",
      "\u001b[0;32m~/.virtualenv/python3/lib/python3.6/site-packages/PIL/ImageDraw.py\u001b[0m in \u001b[0;36mtextsize\u001b[0;34m(self, text, font, spacing, direction, features)\u001b[0m\n\u001b[1;32m    258\u001b[0m         \u001b[0;32mif\u001b[0m \u001b[0mfont\u001b[0m \u001b[0;32mis\u001b[0m \u001b[0;32mNone\u001b[0m\u001b[0;34m:\u001b[0m\u001b[0;34m\u001b[0m\u001b[0m\n\u001b[1;32m    259\u001b[0m             \u001b[0mfont\u001b[0m \u001b[0;34m=\u001b[0m \u001b[0mself\u001b[0m\u001b[0;34m.\u001b[0m\u001b[0mgetfont\u001b[0m\u001b[0;34m(\u001b[0m\u001b[0;34m)\u001b[0m\u001b[0;34m\u001b[0m\u001b[0m\n\u001b[0;32m--> 260\u001b[0;31m         \u001b[0;32mreturn\u001b[0m \u001b[0mfont\u001b[0m\u001b[0;34m.\u001b[0m\u001b[0mgetsize\u001b[0m\u001b[0;34m(\u001b[0m\u001b[0mtext\u001b[0m\u001b[0;34m,\u001b[0m \u001b[0mdirection\u001b[0m\u001b[0;34m,\u001b[0m \u001b[0mfeatures\u001b[0m\u001b[0;34m)\u001b[0m\u001b[0;34m\u001b[0m\u001b[0m\n\u001b[0m\u001b[1;32m    261\u001b[0m \u001b[0;34m\u001b[0m\u001b[0m\n\u001b[1;32m    262\u001b[0m     def multiline_textsize(self, text, font=None, spacing=4, direction=None,\n",
      "\u001b[0;32m~/.virtualenv/python3/lib/python3.6/site-packages/PIL/ImageFont.py\u001b[0m in \u001b[0;36mgetsize\u001b[0;34m(self, text, *args, **kwargs)\u001b[0m\n\u001b[1;32m    205\u001b[0m \u001b[0;34m\u001b[0m\u001b[0m\n\u001b[1;32m    206\u001b[0m     \u001b[0;32mdef\u001b[0m \u001b[0mgetsize\u001b[0m\u001b[0;34m(\u001b[0m\u001b[0mself\u001b[0m\u001b[0;34m,\u001b[0m \u001b[0mtext\u001b[0m\u001b[0;34m,\u001b[0m \u001b[0;34m*\u001b[0m\u001b[0margs\u001b[0m\u001b[0;34m,\u001b[0m \u001b[0;34m**\u001b[0m\u001b[0mkwargs\u001b[0m\u001b[0;34m)\u001b[0m\u001b[0;34m:\u001b[0m\u001b[0;34m\u001b[0m\u001b[0m\n\u001b[0;32m--> 207\u001b[0;31m         \u001b[0mw\u001b[0m\u001b[0;34m,\u001b[0m \u001b[0mh\u001b[0m \u001b[0;34m=\u001b[0m \u001b[0mself\u001b[0m\u001b[0;34m.\u001b[0m\u001b[0mfont\u001b[0m\u001b[0;34m.\u001b[0m\u001b[0mgetsize\u001b[0m\u001b[0;34m(\u001b[0m\u001b[0mtext\u001b[0m\u001b[0;34m)\u001b[0m\u001b[0;34m\u001b[0m\u001b[0m\n\u001b[0m\u001b[1;32m    208\u001b[0m         \u001b[0;32mif\u001b[0m \u001b[0mself\u001b[0m\u001b[0;34m.\u001b[0m\u001b[0morientation\u001b[0m \u001b[0;32min\u001b[0m \u001b[0;34m(\u001b[0m\u001b[0mImage\u001b[0m\u001b[0;34m.\u001b[0m\u001b[0mROTATE_90\u001b[0m\u001b[0;34m,\u001b[0m \u001b[0mImage\u001b[0m\u001b[0;34m.\u001b[0m\u001b[0mROTATE_270\u001b[0m\u001b[0;34m)\u001b[0m\u001b[0;34m:\u001b[0m\u001b[0;34m\u001b[0m\u001b[0m\n\u001b[1;32m    209\u001b[0m             \u001b[0;32mreturn\u001b[0m \u001b[0mh\u001b[0m\u001b[0;34m,\u001b[0m \u001b[0mw\u001b[0m\u001b[0;34m\u001b[0m\u001b[0m\n",
      "\u001b[0;32m~/.virtualenv/python3/lib/python3.6/site-packages/PIL/ImageFont.py\u001b[0m in \u001b[0;36mgetsize\u001b[0;34m(self, text, direction, features)\u001b[0m\n\u001b[1;32m    154\u001b[0m \u001b[0;34m\u001b[0m\u001b[0m\n\u001b[1;32m    155\u001b[0m     \u001b[0;32mdef\u001b[0m \u001b[0mgetsize\u001b[0m\u001b[0;34m(\u001b[0m\u001b[0mself\u001b[0m\u001b[0;34m,\u001b[0m \u001b[0mtext\u001b[0m\u001b[0;34m,\u001b[0m \u001b[0mdirection\u001b[0m\u001b[0;34m=\u001b[0m\u001b[0;32mNone\u001b[0m\u001b[0;34m,\u001b[0m \u001b[0mfeatures\u001b[0m\u001b[0;34m=\u001b[0m\u001b[0;32mNone\u001b[0m\u001b[0;34m)\u001b[0m\u001b[0;34m:\u001b[0m\u001b[0;34m\u001b[0m\u001b[0m\n\u001b[0;32m--> 156\u001b[0;31m         \u001b[0msize\u001b[0m\u001b[0;34m,\u001b[0m \u001b[0moffset\u001b[0m \u001b[0;34m=\u001b[0m \u001b[0mself\u001b[0m\u001b[0;34m.\u001b[0m\u001b[0mfont\u001b[0m\u001b[0;34m.\u001b[0m\u001b[0mgetsize\u001b[0m\u001b[0;34m(\u001b[0m\u001b[0mtext\u001b[0m\u001b[0;34m,\u001b[0m \u001b[0mdirection\u001b[0m\u001b[0;34m,\u001b[0m \u001b[0mfeatures\u001b[0m\u001b[0;34m)\u001b[0m\u001b[0;34m\u001b[0m\u001b[0m\n\u001b[0m\u001b[1;32m    157\u001b[0m         \u001b[0;32mreturn\u001b[0m \u001b[0;34m(\u001b[0m\u001b[0msize\u001b[0m\u001b[0;34m[\u001b[0m\u001b[0;36m0\u001b[0m\u001b[0;34m]\u001b[0m \u001b[0;34m+\u001b[0m \u001b[0moffset\u001b[0m\u001b[0;34m[\u001b[0m\u001b[0;36m0\u001b[0m\u001b[0;34m]\u001b[0m\u001b[0;34m,\u001b[0m \u001b[0msize\u001b[0m\u001b[0;34m[\u001b[0m\u001b[0;36m1\u001b[0m\u001b[0;34m]\u001b[0m \u001b[0;34m+\u001b[0m \u001b[0moffset\u001b[0m\u001b[0;34m[\u001b[0m\u001b[0;36m1\u001b[0m\u001b[0;34m]\u001b[0m\u001b[0;34m)\u001b[0m\u001b[0;34m\u001b[0m\u001b[0m\n\u001b[1;32m    158\u001b[0m \u001b[0;34m\u001b[0m\u001b[0m\n",
      "\u001b[0;31mKeyboardInterrupt\u001b[0m: "
     ]
    }
   ],
   "source": [
    "LIMIT_WORDS = ['happy', 'day', 'got', 'went', 'today', 'made', 'one', 'two', 'time', 'last', 'first', 'going', \\\n",
    "               'getting', 'took', 'yesterday', 'found', 'lot', 'really', 'saw', 'see', 'month', 'week', 'day', \\\n",
    "               'yesterday', 'year', 'ago', 'now', 'still', 'since', 'something', 'great', 'good', 'long', 'thing', \\\n",
    "               'toi', 'without', 'yesteri', '2s', 'toand', 'ing' ]\n",
    "\n",
    "text = ' '.join(df_hm['hm'].tolist())\n",
    "text = text.lower()\n",
    "for w in LIMIT_WORDS:\n",
    "    text = text.replace(' ' + w, '')\n",
    "    text = text.replace(w + ' ', '')\n",
    "    wordcloud = WordCloud(background_color=\"white\", font_path='../../../Library/Fonts/Arial.ttf', \\\n",
    "                          height=2700, width=3600).generate(text)\n",
    "    "
   ]
  },
  {
   "cell_type": "markdown",
   "metadata": {},
   "source": [
    "## Seasons that make people happy"
   ]
  },
  {
   "cell_type": "code",
   "execution_count": 59,
   "metadata": {},
   "outputs": [
    {
     "data": {
      "text/plain": [
       "{'Autumn': 0, 'Fall': 6, 'Spring': 81, 'Summer': 23, 'Winter': 6}"
      ]
     },
     "execution_count": 59,
     "metadata": {},
     "output_type": "execute_result"
    }
   ],
   "source": [
    "seasons = ['Spring', 'Summer', \"Fall\", \"Autumn\", \"Winter\"]\n",
    "\n",
    "# Check each moment, and increase the count for the mentioned season\n",
    "season_dic = dict((x,0) for x in seasons)\n",
    "tokens_hm = df_hm['hm'].apply(lambda x: x.split())\n",
    "for _, value in tokens_hm.iteritems():\n",
    "    for word in value:\n",
    "        if word in seasons:\n",
    "            season_dic[word] += 1\n",
    "            \n",
    "season_dic"
   ]
  },
  {
   "cell_type": "markdown",
   "metadata": {},
   "source": [
    "Spring is the most popular season -- as expected -- followed by Summer.  \n",
    "\n",
    "Fall and Winter have equal number of mentioning."
   ]
  },
  {
   "cell_type": "code",
   "execution_count": null,
   "metadata": {},
   "outputs": [],
   "source": []
  },
  {
   "cell_type": "markdown",
   "metadata": {},
   "source": [
    "## Identify purchasing-related moments"
   ]
  },
  {
   "cell_type": "markdown",
   "metadata": {},
   "source": [
    "Let's use Python to take a peek at all the happy moments related to purchasing behavior -- \n",
    "i.e., moments that contain keywords 'buy', 'bought' or 'purchase'.  \n",
    "\n",
    "This process could help us understand the patterns of products appearing in the happy moments, and faciliate condition specification in latter steps when we use KOKO."
   ]
  },
  {
   "cell_type": "code",
   "execution_count": 13,
   "metadata": {},
   "outputs": [
    {
     "ename": "NameError",
     "evalue": "name 'data_clean' is not defined",
     "output_type": "error",
     "traceback": [
      "\u001b[0;31m---------------------------------------------------------------------------\u001b[0m",
      "\u001b[0;31mNameError\u001b[0m                                 Traceback (most recent call last)",
      "\u001b[0;32m<ipython-input-13-f2c95df6c225>\u001b[0m in \u001b[0;36m<module>\u001b[0;34m()\u001b[0m\n\u001b[1;32m      1\u001b[0m \u001b[0mnum_moments\u001b[0m \u001b[0;34m=\u001b[0m \u001b[0;36m100\u001b[0m\u001b[0;34m\u001b[0m\u001b[0m\n\u001b[0;32m----> 2\u001b[0;31m \u001b[0;32massert\u001b[0m \u001b[0;34m(\u001b[0m\u001b[0mnum_moments\u001b[0m \u001b[0;34m<\u001b[0m \u001b[0mdata_clean\u001b[0m\u001b[0;34m.\u001b[0m\u001b[0msize\u001b[0m\u001b[0;34m)\u001b[0m\u001b[0;34m\u001b[0m\u001b[0m\n\u001b[0m\u001b[1;32m      3\u001b[0m \u001b[0mprint\u001b[0m\u001b[0;34m(\u001b[0m\u001b[0;34m'Happy moments involving purchasing:\\n'\u001b[0m\u001b[0;34m)\u001b[0m\u001b[0;34m\u001b[0m\u001b[0m\n\u001b[1;32m      4\u001b[0m \u001b[0;32mfor\u001b[0m \u001b[0mi\u001b[0m \u001b[0;32min\u001b[0m \u001b[0mrange\u001b[0m\u001b[0;34m(\u001b[0m\u001b[0;36m0\u001b[0m\u001b[0;34m,\u001b[0m \u001b[0mnum_moments\u001b[0m\u001b[0;34m)\u001b[0m\u001b[0;34m:\u001b[0m\u001b[0;34m\u001b[0m\u001b[0m\n\u001b[1;32m      5\u001b[0m     \u001b[0;32mif\u001b[0m \u001b[0;34m'buy'\u001b[0m \u001b[0;32min\u001b[0m \u001b[0mdata_clean\u001b[0m\u001b[0;34m.\u001b[0m\u001b[0miloc\u001b[0m\u001b[0;34m[\u001b[0m\u001b[0mi\u001b[0m\u001b[0;34m]\u001b[0m \u001b[0;32mor\u001b[0m        \u001b[0;34m'bought'\u001b[0m \u001b[0;32min\u001b[0m \u001b[0mdata_clean\u001b[0m\u001b[0;34m.\u001b[0m\u001b[0miloc\u001b[0m\u001b[0;34m[\u001b[0m\u001b[0mi\u001b[0m\u001b[0;34m]\u001b[0m \u001b[0;32mor\u001b[0m        \u001b[0;34m'purchase'\u001b[0m \u001b[0;32min\u001b[0m \u001b[0mdata_clean\u001b[0m\u001b[0;34m.\u001b[0m\u001b[0miloc\u001b[0m\u001b[0;34m[\u001b[0m\u001b[0mi\u001b[0m\u001b[0;34m]\u001b[0m\u001b[0;34m:\u001b[0m\u001b[0;34m\u001b[0m\u001b[0m\n",
      "\u001b[0;31mNameError\u001b[0m: name 'data_clean' is not defined"
     ]
    }
   ],
   "source": [
    "num_moments = 100\n",
    "assert (num_moments < data_clean.size)\n",
    "print('Happy moments involving purchasing:\\n')\n",
    "for i in range(0, num_moments):\n",
    "    if 'buy' in data_clean.iloc[i] or \\\n",
    "       'bought' in data_clean.iloc[i] or \\\n",
    "       'purchase' in data_clean.iloc[i]:\n",
    "       print(\"{}: {}\".format(i, data_clean.iloc[i]))"
   ]
  },
  {
   "cell_type": "markdown",
   "metadata": {},
   "source": [
    "<a id='koko_syntax'></a>\n",
    "# 2. Introduction to KOKO"
   ]
  },
  {
   "cell_type": "markdown",
   "metadata": {},
   "source": [
    "Before using KOKO to extract products from HappyDB, I'll give a brief introduction of KOKO's query language."
   ]
  },
  {
   "cell_type": "markdown",
   "metadata": {},
   "source": [
    "**Here's am example query *Q_prod* that I'll use to extract products.**"
   ]
  },
  {
   "cell_type": "code",
   "execution_count": 14,
   "metadata": {},
   "outputs": [
    {
     "name": "stdout",
     "output_type": "stream",
     "text": [
      "extract \"Ngrams(1,1)\" x from \"./happydb.txt\" if\n",
      "\t\t   (\"bought a new\" x {0.01}) or\n",
      "\t\t   (\"bought a few\" x {0.01}) or\n",
      "\t\t   (\"bought some\" x {0.01}) or\n",
      "\t\t   (\"bought a\" x {0.01}) or\n",
      "\t\t   (x \"I bought\" {0.01}) or\t\t   \n",
      "\t\t   (\"purchased a new\" x {0.01}) or\n",
      "\t\t   (\"purchased a few\" x {0.01}) or\n",
      "\t\t   (\"purchased some\" x {0.01}) or\n",
      "\t\t   (\"purchased a\" x {0.01}) or\n",
      "\t\t   (x \"I purchased\" {0.01})\n",
      "with threshold 0.2\n",
      "excluding (str(x) matches \".*(new|NEW|few).*\")\n",
      "excluding (str(x) matches \".*(,|\\.|;|!|\\$|\\(|\\)|-).*\")\n",
      "excluding (str(x) matches \".*[0-9]+.*\")\n",
      "excluding (str(x) matches \".*(and|or|so|the|this|that).*\")\n",
      "\n"
     ]
    }
   ],
   "source": [
    "with open('./products.koko', 'r') as query:\n",
    "    print(query.read())"
   ]
  },
  {
   "cell_type": "markdown",
   "metadata": {},
   "source": [
    "To understand *Q_prod*, let's take a look at the syntax of KOKO."
   ]
  },
  {
   "cell_type": "markdown",
   "metadata": {},
   "source": [
    "<a id='koko_syntax'></a>\n",
    "## KOKO syntax"
   ]
  },
  {
   "cell_type": "markdown",
   "metadata": {},
   "source": [
    "(**extract** ⟨keyword⟩ x **from** ⟨document name⟩ **if**  \n",
    "⟨condition⟩  \n",
    "(**with threshold** ⟨threshold⟩)  \n",
    "[**excluding** ⟨e-condition⟩]"
   ]
  },
  {
   "cell_type": "markdown",
   "metadata": {},
   "source": [
    "where the conditions are defined as follows:"
   ]
  },
  {
   "cell_type": "markdown",
   "metadata": {},
   "source": [
    "*⟨condition⟩ ::= ⟨condition⟩ or ⟨condition⟩ |*  \n",
    "&nbsp;&nbsp;&nbsp;&nbsp;&nbsp;&nbsp;&nbsp;\n",
    "&nbsp;&nbsp;&nbsp;&nbsp;&nbsp;&nbsp;&nbsp;\n",
    "&nbsp;&nbsp;&nbsp;&nbsp;&nbsp;&nbsp;&nbsp;\n",
    "              *(x {⟨string⟩} ⟨weight⟩) |*  \n",
    "&nbsp;&nbsp;&nbsp;&nbsp;&nbsp;&nbsp;&nbsp;\n",
    "&nbsp;&nbsp;&nbsp;&nbsp;&nbsp;&nbsp;&nbsp;\n",
    "&nbsp;&nbsp;&nbsp;&nbsp;&nbsp;&nbsp;&nbsp;\n",
    "              *(x ⟨string⟩ ⟨weight⟩) |*  \n",
    "&nbsp;&nbsp;&nbsp;&nbsp;&nbsp;&nbsp;&nbsp;\n",
    "&nbsp;&nbsp;&nbsp;&nbsp;&nbsp;&nbsp;&nbsp;\n",
    "&nbsp;&nbsp;&nbsp;&nbsp;&nbsp;&nbsp;&nbsp;\n",
    "              *(x near ⟨string⟩ ⟨weight⟩) |*  \n",
    "&nbsp;&nbsp;&nbsp;&nbsp;&nbsp;&nbsp;&nbsp;\n",
    "&nbsp;&nbsp;&nbsp;&nbsp;&nbsp;&nbsp;&nbsp;\n",
    "&nbsp;&nbsp;&nbsp;&nbsp;&nbsp;&nbsp;&nbsp;\n",
    "              *(str(x) matches⟨pattern⟩) |*  \n",
    "&nbsp;&nbsp;&nbsp;&nbsp;&nbsp;&nbsp;&nbsp;\n",
    "&nbsp;&nbsp;&nbsp;&nbsp;&nbsp;&nbsp;&nbsp;\n",
    "&nbsp;&nbsp;&nbsp;&nbsp;&nbsp;&nbsp;&nbsp;\n",
    "              *(str(x) [contains|mentions] {⟨string⟩} ⟨weight⟩) |*  \n",
    "&nbsp;&nbsp;&nbsp;&nbsp;&nbsp;&nbsp;&nbsp;\n",
    "&nbsp;&nbsp;&nbsp;&nbsp;&nbsp;&nbsp;&nbsp;\n",
    "&nbsp;&nbsp;&nbsp;&nbsp;&nbsp;&nbsp;&nbsp;\n",
    "              *(str(x) [contains|mentions] ⟨string⟩ ⟨weight⟩)*\n",
    "&nbsp;&nbsp;&nbsp;&nbsp;&nbsp;&nbsp;&nbsp;\n",
    "&nbsp;&nbsp;&nbsp;&nbsp;&nbsp;&nbsp;&nbsp;\n",
    "&nbsp;&nbsp;&nbsp;&nbsp;&nbsp;&nbsp;&nbsp;  \n",
    "*⟨weight⟩ ::= empty | number in [0,1]*\n",
    "&nbsp;&nbsp;&nbsp;&nbsp;&nbsp;&nbsp;&nbsp;\n",
    "&nbsp;&nbsp;&nbsp;&nbsp;&nbsp;&nbsp;&nbsp;\n",
    "&nbsp;&nbsp;&nbsp;&nbsp;&nbsp;&nbsp;&nbsp;  \n",
    "*⟨threshold⟩ ::= number in [0,1]*\n",
    "&nbsp;&nbsp;&nbsp;&nbsp;&nbsp;&nbsp;&nbsp;\n",
    "&nbsp;&nbsp;&nbsp;&nbsp;&nbsp;&nbsp;&nbsp;\n",
    "&nbsp;&nbsp;&nbsp;&nbsp;&nbsp;&nbsp;&nbsp;  \n",
    "*⟨pattern⟩::= ⟨regular expression⟩*"
   ]
  },
  {
   "cell_type": "markdown",
   "metadata": {},
   "source": [
    "Specifically, a KOKO query will extract entities *x* of type ⟨keyword⟩ from a document ⟨document name⟩, \n",
    "if the score of *x* exceeds the treshold ⟨threshold⟩.  \n",
    "\n",
    "The score is computed as the cumulative weights of conditions that are satisfied by *x* in the dataset."
   ]
  },
  {
   "cell_type": "markdown",
   "metadata": {},
   "source": [
    "** Let's use the query *Q_prod* presented above as an example**"
   ]
  },
  {
   "cell_type": "markdown",
   "metadata": {},
   "source": [
    "In *Q_prod*, the ⟨keyword⟩ is \"Ngrams(1,1)\", which means all the one-gram in the document.  \n",
    "We can also use \"Ents\" for named entities, or \"Nps\" for noun phrases.  \n",
    "\n",
    "There are twelve conditions in ⟨condition⟩. For example, (\"bought a new\" x {0.01}) means that an entity *x* with a preceding string of \"bought a new\" will have its score increased by 0.01 -- i.e., the weight of the condition.  \n",
    "\n",
    "And the first \"excluding\" keyword specifies that the matching entities should not be any word containing \"new\", \"NEW\", or \"few\" -- we are more interested in \"car\", for instance, than \"a new car\" or \"a few cars\".  \n",
    "Other \"excluding\" conditions have a similar role."
   ]
  },
  {
   "cell_type": "markdown",
   "metadata": {},
   "source": [
    "# 3. Entity extraction with KOKO"
   ]
  },
  {
   "cell_type": "markdown",
   "metadata": {},
   "source": [
    "Now we are ready to run the query for product extraction.  \n",
    "\n",
    "First, we need to install the KOKO package."
   ]
  },
  {
   "cell_type": "markdown",
   "metadata": {},
   "source": [
    "## Install KOKO"
   ]
  },
  {
   "cell_type": "markdown",
   "metadata": {},
   "source": [
    "To install KOKO locally, simply run the following command:\n",
    "\n",
    "    pip install pykoko"
   ]
  },
  {
   "cell_type": "markdown",
   "metadata": {},
   "source": [
    "## Generate plain-text happy moments"
   ]
  },
  {
   "cell_type": "markdown",
   "metadata": {},
   "source": [
    "KOKO queries take texts as input. Let's generate plain-text happy moments for query evaluation."
   ]
  },
  {
   "cell_type": "code",
   "execution_count": 19,
   "metadata": {},
   "outputs": [
    {
     "name": "stdout",
     "output_type": "stream",
     "text": [
      "Plain-text happy moments are generated!\n"
     ]
    }
   ],
   "source": [
    "import sys\n",
    "\n",
    "# Read the happyDB sample file\n",
    "with open('./happydb.txt', 'w') as ofile:\n",
    "    for i in range(0, data_clean.size-1):    \n",
    "        ofile.write(\"\\t\" + str(data_clean.iloc[i]) + '\\n')\n",
    "        \n",
    "print(\"Plain-text happy moments are generated!\")"
   ]
  },
  {
   "cell_type": "markdown",
   "metadata": {},
   "source": [
    "## Run KOKO"
   ]
  },
  {
   "cell_type": "markdown",
   "metadata": {},
   "source": [
    "After KOKO is installed, we can run the example query *Q_prod*.  \n",
    "\n",
    "Considering the size of the dataset, it might take several minutes to get results."
   ]
  },
  {
   "cell_type": "code",
   "execution_count": null,
   "metadata": {},
   "outputs": [
    {
     "name": "stdout",
     "output_type": "stream",
     "text": [
      "Loading embedding models\n",
      "Creating QueryExpander for: en\n",
      "Embeddings file not found: /Users/chen/.virtualenv/python3/lib/python3.6/site-packages/koko/../embeddings/commoncrawl.840B.300d.txt\n",
      "Ontology file not found: /Users/chen/.virtualenv/python3/lib/python3.6/site-packages/koko/../coffee_ontology.txt\n",
      "Creating QueryExpander for: ja\n",
      "Embeddings file not found: /Users/chen/.virtualenv/python3/lib/python3.6/site-packages/koko/../embeddings/japanese_noun_verb_embedding_vectors.txt\n",
      "Ontology file not provided\n",
      "Done loading embedding models\n",
      "Parsed query: extract \"./happydb.txt\" Ngrams(1,1) from \"x\" if\n",
      "\t(\"bought a new\" x { 0.01 }) or\n",
      "\t(\"bought a few\" x { 0.01 }) or\n",
      "\t(\"bought some\" x { 0.01 }) or\n",
      "\t(\"bought a\" x { 0.01 }) or\n",
      "\t(x \"I bought\" { 0.01 }) or\n",
      "\t(\"purchased a new\" x { 0.01 }) or\n",
      "\t(\"purchased a few\" x { 0.01 }) or\n",
      "\t(\"purchased some\" x { 0.01 }) or\n",
      "\t(\"purchased a\" x { 0.01 }) or\n",
      "\t(x \"I purchased\" { 0.01 })   \n",
      "with threshold 0.20\n",
      "excluding\n",
      "\t(str(x) matches \".*(new|NEW|few).*\")\n",
      "\t(str(x) matches \".*(,|\\.|;|!|\\$|\\(|\\)|-).*\")\n",
      "\t(str(x) matches \".*[0-9]+.*\")\n",
      "\t(str(x) matches \".*(and|or|so|the|this|that).*\")\n",
      "\n"
     ]
    }
   ],
   "source": [
    "import koko\n",
    "\n",
    "koko.run('./products.koko')"
   ]
  },
  {
   "cell_type": "markdown",
   "metadata": {},
   "source": [
    "The results contain certain noise, such as \"When\", \"pair\". But most entries are relevant.\n",
    "\n",
    "**It seems that expensive purchase, such as cars, houses or laptops, are mentioned most in HappyDB.**  \n",
    "\n",
    "Well, this makes sense. Expensive purchase is often for products people long for but could only afford after saving money for an extended period of time.  \n",
    "No wonder such purchase makes people happy."
   ]
  },
  {
   "cell_type": "markdown",
   "metadata": {},
   "source": [
    "We can also use spaCy or Google NLP for document parsing, instead of KOKO's default parser."
   ]
  },
  {
   "cell_type": "markdown",
   "metadata": {},
   "source": [
    "**Here's an example of using spaCy as the parser**"
   ]
  },
  {
   "cell_type": "code",
   "execution_count": 17,
   "metadata": {},
   "outputs": [
    {
     "name": "stdout",
     "output_type": "stream",
     "text": [
      "INFO 2017-09-22 15:15:48,160 - Loading SpaCy English models\n",
      "INFO 2017-09-22 15:15:48,160 - Loading SpaCy English models\n",
      "INFO 2017-09-22 15:15:48,160 - Loading SpaCy English models\n",
      "INFO 2017-09-22 15:15:48,160 - Loading SpaCy English models\n",
      "INFO 2017-09-22 15:15:50,853 - Done\n",
      "INFO 2017-09-22 15:15:50,853 - Done\n",
      "INFO 2017-09-22 15:15:50,853 - Done\n",
      "INFO 2017-09-22 15:15:50,853 - Done\n",
      "Parsed query: extract \"/Users/chen/Research/Playground/Github_Playground/happydb/data/happyDB_clean.txt\" Ngrams(1,1) from \"x\" if\n",
      "\t(\"bought a new\" x { 0.01 }) or\n",
      "\t(\"bought a few\" x { 0.01 }) or\n",
      "\t(\"bought some\" x { 0.01 }) or\n",
      "\t(\"bought a\" x { 0.01 }) or\n",
      "\t(x \"I bought\" { 0.01 }) or\n",
      "\t(\"purchased a new\" x { 0.01 }) or\n",
      "\t(\"purchased a few\" x { 0.01 }) or\n",
      "\t(\"purchased some\" x { 0.01 }) or\n",
      "\t(\"purchased a\" x { 0.01 }) or\n",
      "\t(x \"I purchased\" { 0.01 })   \n",
      "with threshold 0.20\n",
      "excluding\n",
      "\t(str(x) matches \".*(new|NEW|few).*\")\n",
      "\t(str(x) matches \".*(,|\\.|;|!|\\$|\\(|\\)|-).*\")\n",
      "\t(str(x) matches \".*[0-9]+.*\")\n",
      "\t(str(x) matches \".*(and|or|so|the|this|that).*\")\n",
      "\n",
      "\n",
      "Results:\n",
      "\n",
      "Entity name                                        Entity score\n",
      "===============================================================\n",
      "                                                   1.000000\n",
      "car                                                1.000000\n",
      "When                                               1.000000\n",
      "pair                                               0.470000\n",
      "house                                              0.430000\n",
      "laptop                                             0.420000\n",
      "bike                                               0.360000\n",
      "smartphone                                         0.330000\n",
      "video                                              0.320000\n",
      "yesterday                                          0.310000\n",
      "month                                              0.290000\n",
      "Computer                                           0.280000\n",
      "phone                                              0.240000\n",
      "dress                                              0.240000\n",
      "Bicycle                                            0.240000\n",
      "home                                               0.220000\n",
      "nice                                               0.210000\n",
      "Air                                                0.200000\n",
      "game                                               0.200000\n"
     ]
    }
   ],
   "source": [
    "import spacy\n",
    "\n",
    "koko.run('./products.koko', doc_parser='spacy')"
   ]
  },
  {
   "cell_type": "markdown",
   "metadata": {},
   "source": [
    "The results are slightly different. But the entities extracted are identical except \"TV\"."
   ]
  },
  {
   "cell_type": "markdown",
   "metadata": {},
   "source": [
    "# 4. Conclusion"
   ]
  },
  {
   "cell_type": "markdown",
   "metadata": {},
   "source": [
    "This is a quick and preliminary analysis of the HappyDB dataset. In the analysis:\n",
    "\n",
    "- I tried to extract the products that tend to make people happy.\n",
    "\n",
    "- I introduced KOKO, an entity extraction system with a declarative rule-based specification language.\n",
    "\n",
    "- I showed how to write KOKO queries to concisely specify desirable entities, and use KOKO runtime to extract these entities."
   ]
  },
  {
   "cell_type": "code",
   "execution_count": null,
   "metadata": {},
   "outputs": [],
   "source": []
  }
 ],
 "metadata": {
  "kernelspec": {
   "display_name": "Python 3",
   "language": "python",
   "name": "python3"
  },
  "language_info": {
   "codemirror_mode": {
    "name": "ipython",
    "version": 3
   },
   "file_extension": ".py",
   "mimetype": "text/x-python",
   "name": "python",
   "nbconvert_exporter": "python",
   "pygments_lexer": "ipython3",
   "version": "3.6.2"
  }
 },
 "nbformat": 4,
 "nbformat_minor": 2
}
